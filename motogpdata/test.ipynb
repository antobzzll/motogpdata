{
 "cells": [
  {
   "cell_type": "code",
   "execution_count": 1,
   "metadata": {},
   "outputs": [],
   "source": [
    "from motogpdata import MotoGPData"
   ]
  },
  {
   "cell_type": "code",
   "execution_count": 2,
   "metadata": {
    "tags": []
   },
   "outputs": [
    {
     "name": "stdout",
     "output_type": "stream",
     "text": [
      "Available categories: ['MotoGP', 'Moto2', 'Moto3', 'MotoE']\n",
      "Loaded MotoGP season 2022 (db8dc197-c7b2-4c1b-b3a4-6dc534c014ef)\n",
      "Available events:  ['QAT', 'INA', 'ARG', 'AME', 'POR', 'SPA', 'FRA', 'ITA', 'CAT', 'GER', 'NED', 'GBR', 'AUT', 'RSM', 'ARA', 'JPN', 'THA']\n",
      "Getting results for all events in season 2022 ...\n",
      "Getting QAT (0561c82b-4738-4bb6-88d0-6df77f002a43)...\n",
      "Getting INA (0964b830-bed9-48be-9abe-fb44195f97eb)...\n",
      "Getting ARG (d05f42a3-4b65-4d04-9612-fd148880750e)...\n",
      "Getting AME (b1febdc8-cebe-4db4-b0c7-b4035006b15a)...\n",
      "Getting POR (713255bd-2e76-4aad-a337-529a054cf7d2)...\n",
      "Getting SPA (0a9422c3-0870-49c9-86e6-4d8aad0522dd)...\n",
      "Getting FRA (bc520d3f-a3e9-4b46-be38-4f951a1839e5)...\n",
      "Getting ITA (e59414f7-de19-400d-b7d2-6fce2b3c5448)...\n",
      "Getting CAT (4d47e417-fae3-44bd-bfdf-929c1041e6fe)...\n",
      "Getting GER (4d54a9bd-bc4e-4389-90fb-018af5de1a0b)...\n",
      "Getting NED (726dbaae-6b5a-49b9-982a-c4f46cfed0a5)...\n",
      "Getting GBR (d7c76a83-c138-4c19-9565-c7c4400c3d94)...\n",
      "Getting AUT (486e0780-619f-4fba-a951-2856d4c2747e)...\n",
      "Getting RSM (7d810351-1bf8-451e-8fba-f3ff2ae0f29e)...\n",
      "Getting ARA (02b8d4c2-f6d2-4937-9725-3422a0cb2454)...\n",
      "Getting JPN (496b5a1e-9fcd-4ccb-abcb-e0d21d2d76d8)...\n",
      "Getting THA (1c5fcb91-cfbc-4dab-86e9-6a9da6024d4f)...\n"
     ]
    }
   ],
   "source": [
    "api = MotoGPData(\n",
    "    season=2022,\n",
    "    category='MotoGP',\n",
    "    verbose=True\n",
    "    )\n",
    "# api.results(event='QAT')\n",
    "\n",
    "api.results(event=\"all\").to_csv(\"../data/2022.csv\")"
   ]
  }
 ],
 "metadata": {
  "kernelspec": {
   "display_name": "Python 3.10.7 64-bit",
   "language": "python",
   "name": "python3"
  },
  "language_info": {
   "codemirror_mode": {
    "name": "ipython",
    "version": 3
   },
   "file_extension": ".py",
   "mimetype": "text/x-python",
   "name": "python",
   "nbconvert_exporter": "python",
   "pygments_lexer": "ipython3",
   "version": "3.10.7"
  },
  "orig_nbformat": 4,
  "vscode": {
   "interpreter": {
    "hash": "aee8b7b246df8f9039afb4144a1f6fd8d2ca17a180786b69acc140d282b71a49"
   }
  }
 },
 "nbformat": 4,
 "nbformat_minor": 2
}
