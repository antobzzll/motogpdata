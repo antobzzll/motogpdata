{
 "cells": [
  {
   "cell_type": "code",
   "execution_count": 1,
   "metadata": {},
   "outputs": [
    {
     "name": "stdout",
     "output_type": "stream",
     "text": [
      "[motogpscraper] Initializing selenium webdriver\n",
      "[motogpscraper] Scraping ESP 2022: Connecting to: https://www.motogp.com/en/gp-results/2022/ESP/MotoGP/RAC/Classification OK\n",
      "[motogpscraper]motogp.com · GP RESULTS - 2022 THAILAND GRAND PRIX MotoGP RAC Classification\n"
     ]
    },
    {
     "ename": "NoSuchElementException",
     "evalue": "Message: no such element: Unable to locate element: {\"method\":\"xpath\",\"selector\":\"/html/body/div/div/div/div/main/div/div/div/div[3]/div/div[2]/div[4]/div/div/div\"}\n  (Session info: headless chrome=106.0.5249.91)\nStacktrace:\n#0 0x55891ee802c3 <unknown>\n#1 0x55891ec8983a <unknown>\n#2 0x55891ecc2985 <unknown>\n#3 0x55891ecc2b61 <unknown>\n#4 0x55891ecfad14 <unknown>\n#5 0x55891ece0f6d <unknown>\n#6 0x55891ecf8a50 <unknown>\n#7 0x55891ece0d63 <unknown>\n#8 0x55891ecb57e3 <unknown>\n#9 0x55891ecb6a21 <unknown>\n#10 0x55891eece18e <unknown>\n#11 0x55891eed1622 <unknown>\n#12 0x55891eeb4aae <unknown>\n#13 0x55891eed22a3 <unknown>\n#14 0x55891eea8ecf <unknown>\n#15 0x55891eef2588 <unknown>\n#16 0x55891eef2706 <unknown>\n#17 0x55891ef0c8b2 <unknown>\n#18 0x7f78ecd90b43 <unknown>\n",
     "output_type": "error",
     "traceback": [
      "\u001b[0;31m---------------------------------------------------------------------------\u001b[0m",
      "\u001b[0;31mNoSuchElementException\u001b[0m                    Traceback (most recent call last)",
      "Cell \u001b[0;32mIn [1], line 4\u001b[0m\n\u001b[1;32m      1\u001b[0m \u001b[38;5;28;01mfrom\u001b[39;00m \u001b[38;5;21;01mmotogpscraper\u001b[39;00m \u001b[38;5;28;01mimport\u001b[39;00m MotoGPRaceData\n\u001b[1;32m      3\u001b[0m FRA \u001b[38;5;241m=\u001b[39m MotoGPRaceData(\u001b[38;5;124m\"\u001b[39m\u001b[38;5;124mESP\u001b[39m\u001b[38;5;124m\"\u001b[39m, \u001b[38;5;124m\"\u001b[39m\u001b[38;5;124m2022\u001b[39m\u001b[38;5;124m\"\u001b[39m)\n\u001b[0;32m----> 4\u001b[0m FRA\u001b[38;5;241m.\u001b[39mclass_table()\n",
      "File \u001b[0;32m~/MEGA/MEGAsync/GitHub/motogpstats/scraper/motogpscraper.py:49\u001b[0m, in \u001b[0;36mMotoGPRaceData.class_table\u001b[0;34m(self, save)\u001b[0m\n\u001b[1;32m     47\u001b[0m \u001b[39mdef\u001b[39;00m \u001b[39mclass_table\u001b[39m(\u001b[39mself\u001b[39m, save: \u001b[39mbool\u001b[39m \u001b[39m=\u001b[39m \u001b[39mTrue\u001b[39;00m):\n\u001b[1;32m     48\u001b[0m     \u001b[39m# retrive GP classification table\u001b[39;00m\n\u001b[0;32m---> 49\u001b[0m     gp_table \u001b[39m=\u001b[39m \u001b[39mself\u001b[39;49m\u001b[39m.\u001b[39;49mdriver\u001b[39m.\u001b[39;49mfind_element(\n\u001b[1;32m     50\u001b[0m         \u001b[39m\"\u001b[39;49m\u001b[39mxpath\u001b[39;49m\u001b[39m\"\u001b[39;49m, \n\u001b[1;32m     51\u001b[0m         \u001b[39m\"\u001b[39;49m\u001b[39m/html/body/div/div/div/div/main/div/div/div/div[3]/div/div[2]/div[4]/div/div/div\u001b[39;49m\u001b[39m\"\u001b[39;49m)\n\u001b[1;32m     52\u001b[0m     gp_table_html \u001b[39m=\u001b[39m gp_table\u001b[39m.\u001b[39mget_attribute(\u001b[39m'\u001b[39m\u001b[39minnerHTML\u001b[39m\u001b[39m'\u001b[39m)\n\u001b[1;32m     54\u001b[0m     \u001b[39m# to pandas.DataFrame\u001b[39;00m\n",
      "File \u001b[0;32m~/MEGA/MEGAsync/GitHub/motogpstats/scraper/venv/lib/python3.10/site-packages/selenium/webdriver/remote/webdriver.py:856\u001b[0m, in \u001b[0;36mWebDriver.find_element\u001b[0;34m(self, by, value)\u001b[0m\n\u001b[1;32m    853\u001b[0m     by \u001b[39m=\u001b[39m By\u001b[39m.\u001b[39mCSS_SELECTOR\n\u001b[1;32m    854\u001b[0m     value \u001b[39m=\u001b[39m \u001b[39m'\u001b[39m\u001b[39m[name=\u001b[39m\u001b[39m\"\u001b[39m\u001b[39m%s\u001b[39;00m\u001b[39m\"\u001b[39m\u001b[39m]\u001b[39m\u001b[39m'\u001b[39m \u001b[39m%\u001b[39m value\n\u001b[0;32m--> 856\u001b[0m \u001b[39mreturn\u001b[39;00m \u001b[39mself\u001b[39;49m\u001b[39m.\u001b[39;49mexecute(Command\u001b[39m.\u001b[39;49mFIND_ELEMENT, {\n\u001b[1;32m    857\u001b[0m     \u001b[39m'\u001b[39;49m\u001b[39musing\u001b[39;49m\u001b[39m'\u001b[39;49m: by,\n\u001b[1;32m    858\u001b[0m     \u001b[39m'\u001b[39;49m\u001b[39mvalue\u001b[39;49m\u001b[39m'\u001b[39;49m: value})[\u001b[39m'\u001b[39m\u001b[39mvalue\u001b[39m\u001b[39m'\u001b[39m]\n",
      "File \u001b[0;32m~/MEGA/MEGAsync/GitHub/motogpstats/scraper/venv/lib/python3.10/site-packages/selenium/webdriver/remote/webdriver.py:429\u001b[0m, in \u001b[0;36mWebDriver.execute\u001b[0;34m(self, driver_command, params)\u001b[0m\n\u001b[1;32m    427\u001b[0m response \u001b[39m=\u001b[39m \u001b[39mself\u001b[39m\u001b[39m.\u001b[39mcommand_executor\u001b[39m.\u001b[39mexecute(driver_command, params)\n\u001b[1;32m    428\u001b[0m \u001b[39mif\u001b[39;00m response:\n\u001b[0;32m--> 429\u001b[0m     \u001b[39mself\u001b[39;49m\u001b[39m.\u001b[39;49merror_handler\u001b[39m.\u001b[39;49mcheck_response(response)\n\u001b[1;32m    430\u001b[0m     response[\u001b[39m'\u001b[39m\u001b[39mvalue\u001b[39m\u001b[39m'\u001b[39m] \u001b[39m=\u001b[39m \u001b[39mself\u001b[39m\u001b[39m.\u001b[39m_unwrap_value(\n\u001b[1;32m    431\u001b[0m         response\u001b[39m.\u001b[39mget(\u001b[39m'\u001b[39m\u001b[39mvalue\u001b[39m\u001b[39m'\u001b[39m, \u001b[39mNone\u001b[39;00m))\n\u001b[1;32m    432\u001b[0m     \u001b[39mreturn\u001b[39;00m response\n",
      "File \u001b[0;32m~/MEGA/MEGAsync/GitHub/motogpstats/scraper/venv/lib/python3.10/site-packages/selenium/webdriver/remote/errorhandler.py:243\u001b[0m, in \u001b[0;36mErrorHandler.check_response\u001b[0;34m(self, response)\u001b[0m\n\u001b[1;32m    241\u001b[0m         alert_text \u001b[39m=\u001b[39m value[\u001b[39m'\u001b[39m\u001b[39malert\u001b[39m\u001b[39m'\u001b[39m]\u001b[39m.\u001b[39mget(\u001b[39m'\u001b[39m\u001b[39mtext\u001b[39m\u001b[39m'\u001b[39m)\n\u001b[1;32m    242\u001b[0m     \u001b[39mraise\u001b[39;00m exception_class(message, screen, stacktrace, alert_text)  \u001b[39m# type: ignore[call-arg]  # mypy is not smart enough here\u001b[39;00m\n\u001b[0;32m--> 243\u001b[0m \u001b[39mraise\u001b[39;00m exception_class(message, screen, stacktrace)\n",
      "\u001b[0;31mNoSuchElementException\u001b[0m: Message: no such element: Unable to locate element: {\"method\":\"xpath\",\"selector\":\"/html/body/div/div/div/div/main/div/div/div/div[3]/div/div[2]/div[4]/div/div/div\"}\n  (Session info: headless chrome=106.0.5249.91)\nStacktrace:\n#0 0x55891ee802c3 <unknown>\n#1 0x55891ec8983a <unknown>\n#2 0x55891ecc2985 <unknown>\n#3 0x55891ecc2b61 <unknown>\n#4 0x55891ecfad14 <unknown>\n#5 0x55891ece0f6d <unknown>\n#6 0x55891ecf8a50 <unknown>\n#7 0x55891ece0d63 <unknown>\n#8 0x55891ecb57e3 <unknown>\n#9 0x55891ecb6a21 <unknown>\n#10 0x55891eece18e <unknown>\n#11 0x55891eed1622 <unknown>\n#12 0x55891eeb4aae <unknown>\n#13 0x55891eed22a3 <unknown>\n#14 0x55891eea8ecf <unknown>\n#15 0x55891eef2588 <unknown>\n#16 0x55891eef2706 <unknown>\n#17 0x55891ef0c8b2 <unknown>\n#18 0x7f78ecd90b43 <unknown>\n"
     ]
    }
   ],
   "source": [
    "from motogpscraper import MotoGPRaceData\n",
    "\n",
    "FRA = MotoGPRaceData(\"ESP\", \"2022\")\n",
    "FRA.class_table()"
   ]
  }
 ],
 "metadata": {
  "kernelspec": {
   "display_name": "Python 3.10.6 ('venv': venv)",
   "language": "python",
   "name": "python3"
  },
  "language_info": {
   "codemirror_mode": {
    "name": "ipython",
    "version": 3
   },
   "file_extension": ".py",
   "mimetype": "text/x-python",
   "name": "python",
   "nbconvert_exporter": "python",
   "pygments_lexer": "ipython3",
   "version": "3.10.6"
  },
  "orig_nbformat": 4,
  "vscode": {
   "interpreter": {
    "hash": "b16801cc90b0febcaa75c2f0685b294334dec99376091599a2ec1ec29d5bb524"
   }
  }
 },
 "nbformat": 4,
 "nbformat_minor": 2
}
